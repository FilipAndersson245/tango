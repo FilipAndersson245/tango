{
 "cells": [
  {
   "cell_type": "code",
   "execution_count": null,
   "id": "cbfc36d7-9096-4fb4-bbc8-ae2758a2e4db",
   "metadata": {},
   "outputs": [],
   "source": [
    "import scipy.stats as st\n",
    "import numpy as np\n",
    "import matplotlib.pyplot as plt\n",
    "import pandas as pd\n",
    "%config InlineBackend.figure_formats = ['svg']\n",
    "\n",
    "#def cum_var(input):\n",
    "#    return np.array([np.var(input[:i+1]) for i in np.arange(0, len(input))])\n",
    "\n",
    "def cum_var(input):\n",
    "    s = 0\n",
    "    m = 0\n",
    "    n = 0\n",
    "    result = [0]\n",
    "\n",
    "    for value in input:\n",
    "        n += 1\n",
    "        m_p = m;\n",
    "        m += (value - m) / n\n",
    "        s += (value - m) * (value - m_p)\n",
    "        if n > 1:\n",
    "            result.append(s / (n - 1))\n",
    "    return np.array(result)"
   ]
  },
  {
   "cell_type": "code",
   "execution_count": null,
   "id": "cef6ca34-a74c-4175-b415-fce63bb04906",
   "metadata": {},
   "outputs": [],
   "source": [
    "d = pd.read_csv(\"../sum_50000-sum_50000.csv\", header=None, names=[\"base\", \"candidate\"])\n",
    "#d = pd.read_csv(\"../factorial_500-factorial_495.csv\", header=None, names=[\"base\", \"candidate\"])\n",
    "\n",
    "d"
   ]
  },
  {
   "cell_type": "code",
   "execution_count": null,
   "id": "e5a882b1-86fc-44b4-8ec3-fccbe5146be6",
   "metadata": {},
   "outputs": [],
   "source": [
    "fig = plt.figure()\n",
    "ax = fig.add_subplot()\n",
    "\n",
    "x = [np.min(d), np.max(d)]\n",
    "ax.set_yscale('log')\n",
    "#ax.set_xscale('log')\n",
    "ax.hist(d['candidate'] - d['base'], bins = 500)\n",
    "\n",
    "fig.show()"
   ]
  },
  {
   "cell_type": "code",
   "execution_count": null,
   "id": "534303db-4627-459c-accc-ff5195beac03",
   "metadata": {},
   "outputs": [],
   "source": [
    "fig = plt.figure()\n",
    "ax = fig.add_subplot()\n",
    "\n",
    "x = [np.min(d), np.max(d)]\n",
    "ax.set_yscale('log')\n",
    "ax.set_xscale('log')\n",
    "ax.plot(x, x, color='red', linewidth=0.3)\n",
    "ax.scatter(d['base'], d['candidate'], s=2)\n",
    "\n",
    "fig.show()"
   ]
  },
  {
   "cell_type": "code",
   "execution_count": null,
   "id": "578fca8c-e1b2-48e2-a175-a8d98c185d89",
   "metadata": {},
   "outputs": [],
   "source": [
    "diff = np.abs(d['candidate'] - d['base'])\n",
    "diff = diff[np.abs(diff).argsort()]\n",
    "\n",
    "forward_var = cum_var(diff)\n",
    "ratio = np.roll(forward_var, -1) / forward_var"
   ]
  },
  {
   "cell_type": "code",
   "execution_count": null,
   "id": "3ba7aa8a-7ae8-4eae-864f-95ec16183647",
   "metadata": {},
   "outputs": [],
   "source": [
    "#ax[1].set_ylim(0.9, 1.5)\n",
    "fig = plt.figure()\n",
    "ax = fig.subplots(2, 1)\n",
    "\n",
    "x = np.arange(0, len(diff))\n",
    "last_idx = 200\n",
    "#ax.set_yscale('log')\n",
    "#ax.set_xscale('log')\n",
    "#ax[0].set_ylim(-1000, 1000)\n",
    "factor = 10\n",
    "ax[0].plot(x[x % factor == 0], forward_var[x % factor == 0], linewidth=0.3)\n",
    "\n",
    "ax[1].plot(x[x % factor == 0][-1000:], ratio[x % factor == 0], linewidth=0.5, color='red')\n",
    "\n",
    "print(np.max(ratio[-100:]))\n",
    "\n",
    "fig.show()"
   ]
  },
  {
   "cell_type": "code",
   "execution_count": null,
   "id": "6e901144-0f45-450b-8f0d-e20ce89dfd7c",
   "metadata": {},
   "outputs": [],
   "source": [
    "print(ratio[ratio > 1.05])\n",
    "print(x[ratio > 1.05])\n",
    "#print(ratio[-last_idx:])"
   ]
  },
  {
   "cell_type": "code",
   "execution_count": null,
   "id": "46b772c6-377d-4615-a849-078b77f1713b",
   "metadata": {},
   "outputs": [],
   "source": [
    "print(diff[-800:])"
   ]
  },
  {
   "cell_type": "code",
   "execution_count": null,
   "id": "79837283-9a2c-49b8-bf61-a2142f13b9d1",
   "metadata": {},
   "outputs": [],
   "source": [
    "d = pd.read_csv(\"../sum_50000-sum_50000.csv\", header=None, names=[\"base\", \"candidate\"])\n",
    "#d = pd.read_csv(\"../factorial_500-factorial_500.csv\", header=None, names=[\"base\", \"candidate\"])\n",
    "\n",
    "diff = np.abs(d['candidate'] - d['base'])\n",
    "diff = diff[np.abs(diff).argsort()]\n",
    "\n",
    "forward_var = cum_var(diff)\n",
    "ratio = np.roll(forward_var, -1) / forward_var\n",
    "\n",
    "fig = plt.figure()\n",
    "ax = fig.subplots(1, 1)\n",
    "\n",
    "x = np.arange(0, len(diff))\n",
    "\n",
    "last = len(diff) // 1\n",
    "\n",
    "x = x[-last:]\n",
    "y = np.maximum(ratio[-last:], 1)\n",
    "y = y - 1\n",
    "ax.set_yscale('log')\n",
    "ax.plot(x, y, linewidth=0.5, color='red')\n",
    "ax.plot(x,  1 / (x - 1) * 10, linewidth=0.5, color='blue')\n",
    "\n",
    "fig.show()"
   ]
  },
  {
   "cell_type": "code",
   "execution_count": null,
   "id": "9079380c-8157-48f0-80b2-c8cf18b7b5b3",
   "metadata": {},
   "outputs": [],
   "source": [
    "np.sqrt(len(d))"
   ]
  },
  {
   "cell_type": "code",
   "execution_count": null,
   "id": "3cbc0903-8425-41ba-8f93-e71bb470ffbc",
   "metadata": {},
   "outputs": [],
   "source": [
    "len(d[d['base'] - d['candidate'] == 0])/len(d)"
   ]
  }
 ],
 "metadata": {
  "kernelspec": {
   "display_name": "Python 3 (ipykernel)",
   "language": "python",
   "name": "python3"
  },
  "language_info": {
   "codemirror_mode": {
    "name": "ipython",
    "version": 3
   },
   "file_extension": ".py",
   "mimetype": "text/x-python",
   "name": "python",
   "nbconvert_exporter": "python",
   "pygments_lexer": "ipython3",
   "version": "3.11.5"
  }
 },
 "nbformat": 4,
 "nbformat_minor": 5
}
